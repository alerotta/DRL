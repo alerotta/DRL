{
  "nbformat": 4,
  "nbformat_minor": 0,
  "metadata": {
    "colab": {
      "provenance": [],
      "authorship_tag": "ABX9TyPY+mBqOQJgH23hW71JTlyP",
      "include_colab_link": true
    },
    "kernelspec": {
      "name": "python3",
      "display_name": "Python 3"
    },
    "language_info": {
      "name": "python"
    }
  },
  "cells": [
    {
      "cell_type": "markdown",
      "metadata": {
        "id": "view-in-github",
        "colab_type": "text"
      },
      "source": [
        "<a href=\"https://colab.research.google.com/github/alerotta/DRL/blob/main/02%20-%20Q%20Learning/Q_Learning_FrozenLake_.ipynb\" target=\"_parent\"><img src=\"https://colab.research.google.com/assets/colab-badge.svg\" alt=\"Open In Colab\"/></a>"
      ]
    },
    {
      "cell_type": "code",
      "execution_count": 1,
      "metadata": {
        "id": "6V1qDCNsjP1Z"
      },
      "outputs": [],
      "source": [
        "!pip install gymnasium[toy-text] --quiet"
      ]
    },
    {
      "cell_type": "code",
      "source": [
        "import typing as tt\n",
        "import gymnasium as gym\n",
        "from collections import defaultdict, Counter\n",
        "from torch.utils.tensorboard.writer import SummaryWriter"
      ],
      "metadata": {
        "id": "lFG6Y2MGnG1d"
      },
      "execution_count": 2,
      "outputs": []
    },
    {
      "cell_type": "code",
      "source": [
        "# this is Q-Learining and not Deep Q... so there is no use of n.n\n",
        "\n",
        "ENV_NAME = \"FrozenLake-v1\"\n",
        "TEST_EPISODES = 20\n",
        "GAMMA = 0.9 # reward discount factor\n",
        "\n",
        "State = int\n",
        "Action = int\n",
        "RewardKey = tt.Tuple[State, Action, State] # s, a, s'\n",
        "TransitKey = tt.Tuple[State, Action] # s, a\n",
        "\n",
        "class Agent:\n",
        "  def __init__(self):\n",
        "    self.env = gym.make(ENV_NAME) #create the environment\n",
        "    self.state, _ = self.env.reset() #first state\n",
        "    self.rewards: tt.Dict[RewardKey,float] = defaultdict(float) #given s,a,s' save reward\n",
        "    self.transit: tt.Dict[TransitKey,Counter] = defaultdict(Counter)\n",
        "    self.values: tt.Disc[TransitKey,float] = defaultdict(float)\n",
        "\n",
        "  def play_n_random_steps(self,n):\n",
        "    for _ in range(n):\n",
        "      action = self.env.action_space.sample()\n",
        "      new_state, reward, is_done ,is_trunc, _ = self.env.step(action)\n",
        "      rw_key = (self.state , action, new_state)\n",
        "      self.rewards[rw_key] = float(reward)\n",
        "      tr_key = (self.state, action)\n",
        "      self.transit[tr_key][new_state] += 1\n",
        "      if is_done or is_trunc :\n",
        "        self.state, _ = self.env.reset()\n",
        "      else:\n",
        "        self.state = new_state\n",
        "\n",
        "  def select_action(self,state) -> Action :\n",
        "    best_action, best_value = None, None\n",
        "    for action in range(self.env.action_space.n):\n",
        "      action_value = self.values[(state,action)]\n",
        "      if best_value is None or best_value < action_value:\n",
        "        best_value = action_value\n",
        "        best_action = action\n",
        "\n",
        "    return best_action\n",
        "\n",
        "\n",
        "  def play_episode(self, env):\n",
        "    total_reward = 0.0\n",
        "    state, _ = env.reset()\n",
        "    while True:\n",
        "      action = self.select_action(state)\n",
        "      new_state, reward , is_done, is_trunc , _ = env.step(action)\n",
        "      rw_key = (state,action,new_state)\n",
        "      self.rewards[rw_key]= float(reward)\n",
        "      tr_key = (state,action)\n",
        "      self.transit[tr_key][new_state] += 1\n",
        "      total_reward += reward\n",
        "      if is_done or is_trunc :\n",
        "        break\n",
        "      state = new_state\n",
        "    return total_reward\n",
        "\n",
        "  def value_iteration(self):\n",
        "    for state in range(self.env.observation_space.n):\n",
        "      for action in range(self.env.action_space.n):\n",
        "        action_value = 0.0\n",
        "        target_counts = self.transit[(state,action)]\n",
        "        total = sum(target_counts.values())\n",
        "        for tgt_state, count in target_counts.items():\n",
        "          rw_key = (state,action,tgt_state)\n",
        "          reward = self.rewards[rw_key]\n",
        "          best_action = self.select_action(tgt_state)\n",
        "          val = reward + GAMMA * self.values[(tgt_state,best_action)]\n",
        "          action_value += (count/total)*val\n",
        "        self.values [(state,action)] = action_value\n",
        "\n",
        "def run():\n",
        "    test_env = gym.make(ENV_NAME)\n",
        "    agent = Agent()\n",
        "    writer = SummaryWriter(comment=\"-q-iteration\")\n",
        "\n",
        "    iter_no = 0\n",
        "    best_reward = 0.0\n",
        "    while True:\n",
        "        iter_no += 1\n",
        "        agent.play_n_random_steps(100)\n",
        "        agent.value_iteration()\n",
        "\n",
        "        reward = 0.0\n",
        "        for _ in range(TEST_EPISODES):\n",
        "            reward += agent.play_episode(test_env)\n",
        "        reward /= TEST_EPISODES\n",
        "        writer.add_scalar(\"reward\", reward, iter_no)\n",
        "        if reward > best_reward:\n",
        "            print(f\"{iter_no}: Best reward updated \"\n",
        "                  f\"{best_reward:.3} -> {reward:.3}\")\n",
        "            best_reward = reward\n",
        "        if reward > 0.80:\n",
        "            print(\"Solved in %d iterations!\" % iter_no)\n",
        "            break\n",
        "    writer.close()\n",
        "run()\n",
        "\n",
        "\n",
        "\n",
        "\n"
      ],
      "metadata": {
        "colab": {
          "base_uri": "https://localhost:8080/"
        },
        "id": "-XhWWD4UnL3b",
        "outputId": "4aefb8ec-872b-4fbc-b617-2c2f772b3b7b"
      },
      "execution_count": 10,
      "outputs": [
        {
          "output_type": "stream",
          "name": "stdout",
          "text": [
            "14: Best reward updated 0.0 -> 0.35\n",
            "17: Best reward updated 0.35 -> 0.55\n",
            "24: Best reward updated 0.55 -> 0.75\n",
            "42: Best reward updated 0.75 -> 0.8\n",
            "43: Best reward updated 0.8 -> 0.85\n",
            "Solved in 43 iterations!\n"
          ]
        }
      ]
    }
  ]
}

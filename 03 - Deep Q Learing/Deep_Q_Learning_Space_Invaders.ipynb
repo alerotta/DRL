{
  "nbformat": 4,
  "nbformat_minor": 0,
  "metadata": {
    "colab": {
      "provenance": [],
      "gpuType": "T4",
      "authorship_tag": "ABX9TyM/fBs/Hyyo2YetQLwBw1op",
      "include_colab_link": true
    },
    "kernelspec": {
      "name": "python3",
      "display_name": "Python 3"
    },
    "language_info": {
      "name": "python"
    },
    "accelerator": "GPU"
  },
  "cells": [
    {
      "cell_type": "markdown",
      "metadata": {
        "id": "view-in-github",
        "colab_type": "text"
      },
      "source": [
        "<a href=\"https://colab.research.google.com/github/alerotta/DRL/blob/main/03%20-%20Deep%20Q%20Learing/Deep_Q_Learning_Space_Invaders.ipynb\" target=\"_parent\"><img src=\"https://colab.research.google.com/assets/colab-badge.svg\" alt=\"Open In Colab\"/></a>"
      ]
    },
    {
      "cell_type": "code",
      "source": [
        "!pip install gymnasium[atari,accept-rom-license]\n",
        "!pip install torch torchvision\n",
        "!pip install opencv-python\n"
      ],
      "metadata": {
        "id": "xl3V_-7tDg-R"
      },
      "execution_count": null,
      "outputs": []
    },
    {
      "cell_type": "code",
      "source": [
        "import random\n",
        "from collections import deque , namedtuple\n",
        "import numpy as np\n",
        "import gymnasium as gym\n",
        "import cv2\n",
        "\n",
        "\n",
        "import torch\n",
        "import torch.nn as nn\n",
        "import torch.nn.functional as F\n",
        "import torch.optim as optim"
      ],
      "metadata": {
        "id": "m74Xdxs3D_Cc"
      },
      "execution_count": 8,
      "outputs": []
    },
    {
      "cell_type": "code",
      "source": [
        "Experience = namedtuple('Experience',('state','action','reward','next_state','done'))\n",
        "\n",
        "class ReplayBuffer ():\n",
        "    def __init__(self,capacity,device):\n",
        "        self.buffer = deque(maxlen=capacity)\n",
        "        self.device = device\n",
        "\n",
        "    def append (self,state,action,reward,next_state,done):\n",
        "        self.buffer.append(Experience(state=state,action=action,reward=reward,next_state=next_state,done=done))\n",
        "\n",
        "    def __len__(self):\n",
        "        return len(self.buffer)\n",
        "\n",
        "    def sample(self, batch_size):\n",
        "        experiences = random.sample(self.buffer,batch_size)\n",
        "        batch = Experience(*zip(*experiences))\n",
        "\n",
        "        states = torch.tensor(np.stack(batch.state), dtype=torch.float32, device=self.device)\n",
        "        actions = torch.tensor(batch.action, dtype=torch.long, device=self.device).unsqueeze(1)\n",
        "        rewards = torch.tensor(batch.reward, dtype=torch.float32, device=self.device).unsqueeze(1)\n",
        "        next_states = torch.tensor(np.stack(batch.next_state), dtype=torch.float32, device=self.device)\n",
        "        dones = torch.tensor(batch.done, dtype=torch.float32, device=self.device).unsqueeze(1)\n",
        "\n",
        "        return states, actions, rewards, next_states, dones"
      ],
      "metadata": {
        "id": "LEJpJAKcEDbf"
      },
      "execution_count": 16,
      "outputs": []
    },
    {
      "cell_type": "code",
      "source": [
        "class MyDQN(nn.Module):\n",
        "    def __init__(self, input_size, n_actions):\n",
        "        super().__init__()\n",
        "        self.conv1 = nn.Conv2d( input_size , 32, kernel_size=8 , stride=4)\n",
        "        self.conv2 = nn.Conv2d( 32 , 64 , kernel_size=4 , stride=2)\n",
        "        self.conv3 = nn.Conv2d( 64 , 64 , kernel_size=3 , stride=1)\n",
        "\n",
        "        self.fc1 = nn.Linear(64 * 7 * 7 , 512)\n",
        "        self.fc2 = nn.Linear(512,n_actions)\n",
        "\n",
        "    def forward (self, x):\n",
        "        x = F.relu(self.conv1(x))\n",
        "        x = F.relu(self.conv2(x))\n",
        "        x = F.relu(self.conv3(x))\n",
        "\n",
        "        # reshaping in order to enter the linear layer, flatten\n",
        "        # x.size(0) is the batch size\n",
        "        # -1 means to infer automatically the size = 64*7*7\n",
        "        x = x.view(x.size(0),-1)\n",
        "\n",
        "\n",
        "        x = F.relu(self.fc1(x))\n",
        "        return self.fc2(x)"
      ],
      "metadata": {
        "id": "AZmFtSt9EGEk"
      },
      "execution_count": 17,
      "outputs": []
    },
    {
      "cell_type": "code",
      "source": [
        "\n",
        "class AtariPreprocessing(gym.Wrapper):\n",
        "    def __init__(self, env, frame_skip=4, frame_size=84, frame_stack=4):\n",
        "        super().__init__(env)\n",
        "        self.frame_skip = frame_skip\n",
        "        self.frame_size = frame_size\n",
        "        self.frame_stack = frame_stack\n",
        "\n",
        "        self.frames = deque(maxlen=frame_stack)\n",
        "        self.observation_space = gym.spaces.Box(low=0, high=255, shape=(frame_stack, frame_size, frame_size), dtype=np.uint8)\n",
        "\n",
        "\n",
        "    #this function convert to grey and resize\n",
        "    def preprocess(self, obs):\n",
        "        obs = cv2.cvtColor(obs, cv2.COLOR_RGB2GRAY)\n",
        "        obs = cv2.resize(obs, (self.frame_size, self.frame_size), interpolation=cv2.INTER_AREA)\n",
        "        return obs\n",
        "\n",
        "    def reset(self, **kwargs):\n",
        "        obs, info = self.env.reset(**kwargs)\n",
        "        obs = self.preprocess(obs)\n",
        "        for _ in range(self.frame_stack):\n",
        "            self.frames.append(obs)\n",
        "        stacked_obs = np.stack(self.frames, axis=0)\n",
        "        return stacked_obs, info\n",
        "\n",
        "    def step(self, action):\n",
        "        total_reward = 0.0\n",
        "        terminated = False\n",
        "        truncated = False\n",
        "\n",
        "        for _ in range(self.frame_skip):\n",
        "            obs, reward, term, trunc, info = self.env.step(action)\n",
        "            total_reward += reward\n",
        "            terminated = terminated or term\n",
        "            truncated = truncated or trunc\n",
        "            if terminated or truncated:\n",
        "                break\n",
        "\n",
        "        obs = self.preprocess(obs)\n",
        "        self.frames.append(obs)\n",
        "\n",
        "        stacked_obs = np.stack(self.frames, axis=0)\n",
        "        return stacked_obs, total_reward, terminated, truncated, info\n",
        "\n"
      ],
      "metadata": {
        "id": "3V3Ow3-bEYC5"
      },
      "execution_count": 18,
      "outputs": []
    },
    {
      "cell_type": "code",
      "source": [
        "import torch\n",
        "import torch.nn as nn\n",
        "import torch.nn.functional as F\n",
        "import random\n",
        "import numpy as np\n",
        "\n",
        "\n",
        "def select_action(state, policy_net, epsilon, action_space, device):\n",
        "    if random.random() < epsilon:\n",
        "        return action_space.sample()\n",
        "    else:\n",
        "        state = np.array(state, copy=False)\n",
        "        state = torch.tensor(state, dtype=torch.float32).unsqueeze(0).to(device)\n",
        "        state = state / 255.0\n",
        "\n",
        "        with torch.no_grad():\n",
        "            q_values = policy_net(state)\n",
        "            action = torch.argmax(q_values, dim=1).item()\n",
        "        return action"
      ],
      "metadata": {
        "id": "l3YleBlWEa9y"
      },
      "execution_count": 19,
      "outputs": []
    },
    {
      "cell_type": "code",
      "source": [
        "\n",
        "env = gym.make(\"ALE/SpaceInvaders-v5\", render_mode=\"rgb_array\")\n",
        "env = AtariPreprocessing(env)\n",
        "\n",
        "device = torch.device(\"cuda\" if torch.cuda.is_available() else \"cpu\")\n",
        "\n",
        "n_actions = env.action_space.n\n",
        "\n",
        "policy_net = MyDQN(input_size=4, n_actions=n_actions).to(device)\n",
        "target_net = MyDQN(input_size=4, n_actions=n_actions).to(device)\n",
        "target_net.load_state_dict(policy_net.state_dict())\n",
        "\n",
        "optimizer = optim.Adam(policy_net.parameters(), lr=1e-4)\n",
        "replay_buffer = ReplayBuffer(capacity=100_000, device=device)\n",
        "\n",
        "batch_size = 32\n",
        "gamma = 0.99\n",
        "epsilon = 1.0\n",
        "epsilon_min = 0.01\n",
        "epsilon_decay = 0.995\n",
        "target_update_freq = 10\n",
        "\n",
        "\n",
        "num_episodes = 1000\n",
        "\n",
        "for episode in range(num_episodes):\n",
        "    state, _ = env.reset()\n",
        "    total_reward = 0\n",
        "\n",
        "    for t in range(10_000):  # max steps per episode\n",
        "        action = select_action(state, policy_net, epsilon, env.action_space, device)\n",
        "        next_state, reward, terminated, truncated, _ = env.step(action)\n",
        "        done = terminated or truncated\n",
        "\n",
        "        replay_buffer.append(state, action, reward, next_state, done)\n",
        "        state = next_state\n",
        "        total_reward += reward\n",
        "\n",
        "        if len(replay_buffer) >= batch_size:\n",
        "            # Train\n",
        "            states, actions, rewards, next_states, dones = replay_buffer.sample(batch_size)\n",
        "\n",
        "            # Normalize pixel values (already on correct device)\n",
        "            states = states / 255.0\n",
        "            next_states = next_states / 255.0\n",
        "\n",
        "            q_values = policy_net(states).gather(1, actions)\n",
        "\n",
        "            with torch.no_grad():\n",
        "                max_next_q = target_net(next_states).max(1, keepdim=True)[0]\n",
        "                target_q = rewards + gamma * max_next_q * (1 - dones)\n",
        "\n",
        "            loss = nn.MSELoss()(q_values, target_q)\n",
        "\n",
        "            optimizer.zero_grad()\n",
        "            loss.backward()\n",
        "            optimizer.step()\n",
        "\n",
        "        if done:\n",
        "            break\n",
        "\n",
        "    epsilon = max(epsilon_min, epsilon * epsilon_decay)\n",
        "\n",
        "    if episode % target_update_freq == 0:\n",
        "        target_net.load_state_dict(policy_net.state_dict())\n",
        "\n",
        "    print(f\"Episode {episode}, Reward: {total_reward}, Epsilon: {epsilon:.3f}\")\n"
      ],
      "metadata": {
        "id": "2xOFpZV6EslD"
      },
      "execution_count": null,
      "outputs": []
    }
  ]
}